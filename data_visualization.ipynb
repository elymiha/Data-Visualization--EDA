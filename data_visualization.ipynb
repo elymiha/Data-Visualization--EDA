{
 "cells": [
  {
   "cell_type": "markdown",
   "id": "79bda8ed",
   "metadata": {},
   "source": [
    "# DATA DISCOVERY\n",
    "\n",
    "The data discovery process involves the collection and evaluation of data from various sources. \n",
    "Thus, for the purpose of this case study, I have selected two different datasets from the kaggle repository.\n",
    "\n",
    "**DATASET I - WORLD FOOD/FEED PRODUCTION**\n",
    "\n",
    "The Food Balance Sheets FAO's dataset presents a comprehensive picture of the pattern of a country's food supply for over 245 countries and territories, from the year 1961 to 2013. The food balance sheet shows for each food item the sources of supply and its utilization.\n",
    "\n",
    "**DATASET II - ENVIRONMENT IMPACT OF FOOD PRODUCTION**\n",
    "\n",
    "The Food Production dataset contains 43 most common foods grown across the globe and 23 columns as their respective land, water usage and carbon footprints. In order words, it represents greenhouse gas emissions per kg of food product(Kg CO2 - equivalents per kg product) across different stages in the lifecycle of food production.\n",
    "\n",
    "The information retrieved from these two datasets as well as their proper combination will let me build a clear and detailed picture on topics I have decided to cover with this study case. "
   ]
  },
  {
   "cell_type": "markdown",
   "id": "e0001947",
   "metadata": {},
   "source": [
    "Let's import several helpful analytics libraries.\n",
    "These libraries will let me upload, transform, analyse and inspect the chosen datasets."
   ]
  },
  {
   "cell_type": "code",
   "execution_count": null,
   "id": "7c00bdfc",
   "metadata": {
    "scrolled": false
   },
   "outputs": [],
   "source": [
    "import numpy as np\n",
    "import pandas as pd \n",
    "import seaborn as sns\n",
    "import matplotlib.pyplot as plt\n",
    "import plotly.express as px\n",
    "import plotly.io as pio\n",
    "from collections import Counter\n",
    "\n",
    "pd.options.display.max_columns = None"
   ]
  },
  {
   "cell_type": "code",
   "execution_count": null,
   "id": "2fc2bf02",
   "metadata": {},
   "outputs": [],
   "source": [
    "import step1_data_selection.py\n",
    "import step2_data_cleaning.py\n",
    "import step3_data_exploration.py\n",
    "import step4_data_trasformation.py"
   ]
  },
  {
   "cell_type": "markdown",
   "id": "6306335f",
   "metadata": {},
   "source": [
    "# DATA VISUALIZATION"
   ]
  },
  {
   "cell_type": "markdown",
   "id": "cdada0a3",
   "metadata": {},
   "source": [
    "After having accomplished all previous steps and have learned the datasets in detail, I can finally make the content visual. Thus, I will try to reply to the questions listed in the introduction section by ploting graphs and maps."
   ]
  },
  {
   "cell_type": "markdown",
   "id": "5b35e974",
   "metadata": {},
   "source": [
    "**What are the fastest growing countries in production terms?**"
   ]
  },
  {
   "cell_type": "markdown",
   "id": "b37d1110",
   "metadata": {},
   "source": [
    "In order to reply to this question, I will refactor a little bit the ffp dataframe.\n",
    "Namely, I will trasform the 53 columns referring to years ranging from 1961 to 2013 into two columns holding the year and its relative value."
   ]
  },
  {
   "cell_type": "code",
   "execution_count": null,
   "id": "a1f069ab",
   "metadata": {
    "scrolled": false
   },
   "outputs": [],
   "source": [
    "years = pd.Series(np.arange(1961, 2014, 1))\n",
    "columns_name = pd.Series(['Area Abbreviation', 'Area', 'Item', 'Element', 'latitude', 'longitude'])\n",
    "columns_name = pd.concat([columns_name, years])\n",
    "columns_name\n",
    "\n",
    "df = ffp\n",
    "df.columns = columns_name\n",
    "df = df.melt(id_vars=['Area Abbreviation', 'Area', 'Item', 'Element', 'latitude', 'longitude'], value_vars=years,\n",
    "        var_name='Year', value_name='Production (kilo tonnes)')\n",
    "\n",
    "df.head()"
   ]
  },
  {
   "cell_type": "code",
   "execution_count": null,
   "id": "07ce9bb9",
   "metadata": {
    "scrolled": false
   },
   "outputs": [],
   "source": [
    "aggs = [\"sum\",\"avg\",\"stddev\",\"max\"]\n",
    "\n",
    "agg = []\n",
    "agg_func = []\n",
    "for i in range(0, len(aggs)):\n",
    "    agg = dict(\n",
    "        args=['transforms[0].aggregations[0].func', aggs[i]],\n",
    "        label=aggs[i],\n",
    "        method='restyle'\n",
    "    )\n",
    "    agg_func.append(agg)\n",
    "\n",
    "data = [dict(\n",
    "  type = 'choropleth',\n",
    "  locationmode = 'country names',\n",
    "  locations = df['Area'],\n",
    "  z = df['Production (kilo tonnes)'],\n",
    "  autocolorscale = False,\n",
    "  colorscale = 'Portland',\n",
    "  reversescale = True,\n",
    "  transforms = [dict(\n",
    "    type = 'aggregate',\n",
    "    groups = df['Area'],\n",
    "    aggregations = [dict(\n",
    "        target = 'z', func = 'sum', enabled = True)\n",
    "    ]\n",
    "  )]\n",
    ")]\n",
    "\n",
    "layout = dict(\n",
    "  title = '<b>Total Food/Feed produced over the years by each country</b><br>use dropdown to change aggregation',\n",
    "  height = 500,\n",
    "  width = 700,\n",
    "  updatemenus = [dict(\n",
    "        x = 0.85,\n",
    "        y = 1.15,\n",
    "        xref = 'paper',\n",
    "        yref = 'paper',\n",
    "        yanchor = 'top',\n",
    "        active = 1,\n",
    "        showactive = False,\n",
    "        buttons = agg_func\n",
    "  )]\n",
    ")\n",
    "\n",
    "fig_dict = dict(data=data, layout=layout)\n",
    "\n",
    "pio.show(fig_dict, validate=False)"
   ]
  },
  {
   "cell_type": "markdown",
   "id": "0661b579",
   "metadata": {},
   "source": [
    "The above map tells us the following facts:\n",
    "* the top five food/feed producers are China, United States of America, India, Brazil and Germany.\n",
    "* the five countries that mantained the highest average production over the years are still China, United States of America, India, Brazil and Germany.\n",
    "* the five countries that managed to produce a record amount of food/feed in these years are China, India, United States of America, Russian Federation and Indonesia.\n",
    "* the top five countries that were able to increase significantly their production over the years (high stddev) are China, United States of America, India,  "
   ]
  },
  {
   "cell_type": "markdown",
   "id": "4c925c11",
   "metadata": {},
   "source": [
    "Some statements listed in the previous observation, are confirmed also by the below graph which displays the general production \"average\" and \"stddev\" trends. Thus, we can affirm that in these 50 years the production have constantly increased mainly because some countries were able to considerably intensify cultivation and land use for food/feed production (thus increase their stddev). "
   ]
  },
  {
   "cell_type": "code",
   "execution_count": null,
   "id": "563cf4ec",
   "metadata": {
    "scrolled": false
   },
   "outputs": [],
   "source": [
    "tt = ffp_qtv.T\n",
    "\n",
    "fig, axs = plt.subplots(1, 2, figsize=(10,4))  \n",
    "\n",
    "tt.plot.line( y = ['mean'], ax=axs[0])\n",
    "tt.plot.line( y = ['std'], ax=axs[1])\n",
    "\n",
    "fig.suptitle('Some statistical evaluation of ffp dataset content',fontsize = 14, fontweight = \"bold\")\n",
    "plt.ylabel('Food/feed items produced in 1000 tonne',fontsize = 10)\n",
    "\n",
    "plt.show()\n"
   ]
  },
  {
   "cell_type": "markdown",
   "id": "4b213bf6",
   "metadata": {},
   "source": [
    "Now let's have a look at the production rate of each country over the years in order to become aware of each country production trend.\n",
    "For this purpose, I will refer to the \"area_sum_ffp\" dataframe which holds the estimations of the countries' total year production."
   ]
  },
  {
   "cell_type": "code",
   "execution_count": null,
   "id": "f3114208",
   "metadata": {
    "scrolled": false
   },
   "outputs": [],
   "source": [
    "sliced_sum_ffp = area_sum_ffp.loc[:,\"Y1961\":\"Y2013\"]\n",
    "\n",
    "# Since I want to show how total production varies across the years, \n",
    "# I need to traspose the dataframe so that I get the years on \"x-axes\"\n",
    "sliced_sum_ffp = sliced_sum_ffp.T\n",
    "\n",
    "# I am replacing index values type by changing strings \"Yxxxx\" into numbers \"xxxx\".\n",
    "# Change applied for plotting reasons\n",
    "years = np.arange(1961, 2014, 1)\n",
    "sliced_sum_ffp['Year'] = years \n",
    "sliced_sum_ffp = sliced_sum_ffp.set_index('Year')"
   ]
  },
  {
   "cell_type": "markdown",
   "id": "151a04f7",
   "metadata": {},
   "source": [
    "Now I am going to use a line plot to represent the computed values."
   ]
  },
  {
   "cell_type": "code",
   "execution_count": null,
   "id": "af3deb10",
   "metadata": {
    "scrolled": false
   },
   "outputs": [],
   "source": [
    "# You typically want your plot to be ~1.33x wider than tall. This plot\n",
    "# is a rare exception because of the number of lines being plotted on it.\n",
    "# Common sizes: (10, 7.5) and (12, 9)\n",
    "fig, ax1 = plt.subplots(1,1,figsize=(12, 14))\n",
    "\n",
    "# These are the colors that will be used in the plot\n",
    "ax1.set_prop_cycle(color=[\n",
    "    '#1f77b4', '#aec7e8', '#ff7f0e', '#ffbb78', '#2ca02c', '#98df8a',\n",
    "    '#d62728', '#ff9896', '#9467bd', '#c5b0d5', '#8c564b', '#c49c94',\n",
    "    '#e377c2', '#f7b6d2', '#7f7f7f', '#c7c7c7', '#bcbd22', '#dbdb8d',\n",
    "    '#17becf', '#9edae5'])\n",
    "\n",
    "# Remove the plot frame lines. They are unnecessary here.\n",
    "ax1.spines[:].set_visible(False)\n",
    "\n",
    "# Ensure that the axis ticks only show up on the bottom and left of the plot.\n",
    "ax1.xaxis.tick_bottom()\n",
    "ax1.yaxis.tick_left()\n",
    "\n",
    "fig.subplots_adjust(left=.06, right=.75, bottom=.02, top=.94)\n",
    "# Limit the range of the plot to only where the data is.\n",
    "ax1.set_xlim(1960.5, 2013.5)\n",
    "ax1.set_ylim(-0,25, 3250000)\n",
    "\n",
    "# Set a fixed location and format for ticks.\n",
    "ax1.set_xticks(range(1961, 2013, 10))\n",
    "ax1.set_yticks(range(0, 3500000, 250000))\n",
    "\n",
    "# Use automatic StrMethodFormatter creation\n",
    "ax1.xaxis.set_major_formatter('{x:.0f}')\n",
    "ax1.yaxis.set_major_formatter('{x:.0f}')\n",
    "\n",
    "# Provide tick lines across the plot to help your viewers trace along\n",
    "# the axis ticks. Make sure that the lines are light and small so they\n",
    "# don't obscure the primary data lines.\n",
    "ax1.grid(True, 'major', 'y', ls='--', lw=.5, c='k', alpha=.3)\n",
    "\n",
    "# Remove the tick marks; they are unnecessary with the tick lines we just\n",
    "# plotted. Make sure your axis ticks are large enough to be easily read.\n",
    "# You don't want your viewers squinting to read your plot.\n",
    "ax1.tick_params(axis='both', which='both', labelsize=14,\n",
    "               bottom=False, top=False, labelbottom=True,\n",
    "               left=False, right=False, labelleft=True)\n",
    "\n",
    "# Now that the plot is prepared, it's time to actually plot the data!\n",
    "majors = sliced_sum_ffp.columns\n",
    "\n",
    "for column in majors:\n",
    "    # Plot each line separately with its own color.\n",
    "    line, = ax1.plot(sliced_sum_ffp.index, column, data=sliced_sum_ffp)\n",
    "\n",
    "    # Add a text label to the right end of every line. Most of the code below\n",
    "    # is adding specific offsets y position because some labels overlapped.\n",
    "    y_pos = np.array(sliced_sum_ffp[column])[-1] - 0.5\n",
    "    \n",
    "    text = column + ' : ' + str(totals_ffp.loc[column, 'TotalProduction_%']) + '%'\n",
    "    # Make sure that all labels are large enough to be easily read by the viewer.\n",
    "    ax1.text(2013.5, y_pos, text, fontsize=12, color=line.get_color())\n",
    "\n",
    "# The title \n",
    "fig.suptitle(\"Total Food/Feed produced each year by each country\", fontsize=18, ha=\"center\")\n",
    "\n",
    "plt.show()"
   ]
  },
  {
   "cell_type": "markdown",
   "id": "ab2e6ae2",
   "metadata": {},
   "source": [
    "The above graph tells us the following things:\n",
    "\n",
    "* China alone produces 20% of the global food/feed production and its production rate has been exponential and unstoppable. \n",
    "* From around 2005 India has overcomed USA and became the second global food/feed producer.\n",
    "* From the moment Russian Federation became a nation, its production has been of around 2% (375.000 kilo tonnes)\n",
    "* Brazil, Nigeria and Indonesia have costantly increased their production over the years, whereas Germany has decreased its production after the Fall of the Berlin Wall (1989) and kept it stable afterwards at around 200.000 kilo tonnes per year.\n"
   ]
  },
  {
   "cell_type": "markdown",
   "id": "c5d4d58b",
   "metadata": {},
   "source": [
    "**What are the differences between food and feed production?**"
   ]
  },
  {
   "cell_type": "markdown",
   "id": "cfdc22c2",
   "metadata": {},
   "source": [
    "In order to show the decomposition of production type among years and countries, I will use Matplotlib and Seaborn library functions."
   ]
  },
  {
   "cell_type": "code",
   "execution_count": null,
   "id": "6ee79c1a",
   "metadata": {
    "scrolled": false
   },
   "outputs": [],
   "source": [
    "# I am adding the \"Diff\" column to \"element_mean_ffp\" dataframe\n",
    "mean_ffp = element_mean_ffp.loc[:, \"Y1961\":\"Y2013\"]\n",
    "diff = -mean_ffp.diff()\n",
    "mean_ffp.loc[-1] = diff.loc[\"Food\"]\n",
    "mean_ffp.index = [\"Feed\", \"Food\", \"Diff\"]\n",
    "mean_ffp = mean_ffp.T\n",
    "\n",
    "# I am replacing index values type by changing strings \"Yxxxx\" into numbers \"xxxx\".\n",
    "years = np.arange(1961, 2014, 1)\n",
    "mean_ffp['Year'] = years \n",
    "mean_ffp = mean_ffp.set_index('Year')\n",
    "\n",
    "# I am dropping the \"Food\" and \"Feed\" columns since I do not need them any more\n",
    "mean_ffp = mean_ffp.drop(columns = [\"Feed\", \"Food\"])"
   ]
  },
  {
   "cell_type": "code",
   "execution_count": null,
   "id": "6dc18210",
   "metadata": {
    "scrolled": false
   },
   "outputs": [],
   "source": [
    "plt.figure()\n",
    "\n",
    "\n",
    "(df.pivot_table(\n",
    "    index=\"Year\",\n",
    "    columns=\"Element\",\n",
    "    values=\"Production (kilo tonnes)\",\n",
    "    aggfunc='mean').plot(kind='bar', figsize=(20, 8), title = \"Average Food/Feed produced each year\")\n",
    ")\n",
    "\n",
    "mean_ffp.plot(kind = \"line\", figsize=(20, 8), title = \"Difference between feed and food production\", legend = False)\n",
    "\n",
    "plt.show()"
   ]
  },
  {
   "cell_type": "markdown",
   "id": "47ae28a4",
   "metadata": {},
   "source": [
    "The above representations tell us that the feed production always exceeds the food production, with the highest difference among them being registered in years 1992:1994 (possible reason: Russian Federation inserted into the countries list). Moreover, it is noticeable also here that the production trend is ascending and increasing almost constantly."
   ]
  },
  {
   "cell_type": "markdown",
   "id": "ff2c9637",
   "metadata": {},
   "source": [
    "Let's now give a look at the proportion of feed and food each country produced over around 50 years."
   ]
  },
  {
   "cell_type": "code",
   "execution_count": null,
   "id": "dc86a90f",
   "metadata": {
    "scrolled": false
   },
   "outputs": [],
   "source": [
    "mean_ffp = general_mean_ffp.T\n",
    "mean_ffp = mean_ffp.reset_index()\n",
    "mean_ffp.columns = [\"Area\", \"Element\", \"Value\"]\n",
    "mean_ffp = mean_ffp.sort_values(by = \"Value\", ascending = False)\n"
   ]
  },
  {
   "cell_type": "code",
   "execution_count": null,
   "id": "9f44ecaa",
   "metadata": {
    "scrolled": false
   },
   "outputs": [],
   "source": [
    "fig = px.sunburst(mean_ffp, path=['Element', 'Area'], values=\"Value\", title='Countries food and feed production ranking')\n",
    "fig.show()"
   ]
  },
  {
   "cell_type": "code",
   "execution_count": null,
   "id": "6147901a",
   "metadata": {
    "scrolled": true
   },
   "outputs": [],
   "source": [
    "fig, axs = plt.subplots(figsize = (15, 40))\n",
    "\n",
    "sns.barplot(x=\"Value\", y=\"Area\", hue=\"Element\", data=mean_ffp, palette=\"coolwarm\")\n",
    "\n",
    "# The title \n",
    "plt.title(\"Total Food/Feed produced by each country\", fontsize=14)\n",
    "\n",
    "plt.show()"
   ]
  },
  {
   "cell_type": "markdown",
   "id": "03669426",
   "metadata": {},
   "source": [
    "The above graphs show us the proportion of food (or feed) produced by each country in all these years.\n",
    "In the first graph is more explicit which countries contribute most to the production of each element.\n",
    "Whereas, in the second graph is more explicit on which type of element each country bases its production ."
   ]
  },
  {
   "cell_type": "markdown",
   "id": "1862177b",
   "metadata": {},
   "source": [
    "**How diversified is the food/feed offer?**"
   ]
  },
  {
   "cell_type": "markdown",
   "id": "b5ac6f70",
   "metadata": {},
   "source": [
    "The below graph shows us that the food production is much more diversified than the feed production since it has around x4 times more product items."
   ]
  },
  {
   "cell_type": "code",
   "execution_count": null,
   "id": "0a5875da",
   "metadata": {
    "scrolled": false
   },
   "outputs": [],
   "source": [
    "fig = px.histogram(ffp_qlt, x=\"Area\", color=\"Element\", title='Histogram of food/feed variety per country', opacity=0.8)\n",
    "fig.show()"
   ]
  },
  {
   "cell_type": "markdown",
   "id": "5d4fcf6d",
   "metadata": {},
   "source": [
    "Now, let's check of what kind of items each category (food/feed) is composed and how much each item weights with respect to other items in a certain category."
   ]
  },
  {
   "cell_type": "code",
   "execution_count": null,
   "id": "5e9ffd8b",
   "metadata": {
    "scrolled": false
   },
   "outputs": [],
   "source": [
    "ff = ffp_qlt.groupby([\"Element\", \"Item\"]).count()\n",
    "ff = ff.reset_index()\n",
    "ff = ff.drop(columns = \"Area Abbreviation\")\n",
    "#ff.head()\n",
    "\n",
    "fig = px.sunburst(ff, path=['Element', 'Item'], values=\"Area\", title='Food and Feed items and their relevance')\n",
    "fig.show()"
   ]
  },
  {
   "cell_type": "markdown",
   "id": "985d8997",
   "metadata": {},
   "source": [
    "From the above graph we extrapolate the following things:\n",
    "\n",
    "* Milk is one of the most required and produced item both as food and feed product.\n",
    "* The top ten food items are: eggs, milk, animal fats, apples, bovine meat, butter, cereals, cocoa beans, coffee, fish/seafood.\n",
    "* The top ten feed items are: milk, cereals, fish/seafood, maize, pelagic fish, oilcrops, cereals other, starchy roots, sorghum, oilcrops others."
   ]
  },
  {
   "cell_type": "markdown",
   "id": "e5d2d828",
   "metadata": {},
   "source": [
    "If we ignore the categorization of products and  give a closer look at the type of products produced on global scale, we would note that the top five most produced items are milk, eggs, cereals, fish/seafood and maize.  "
   ]
  },
  {
   "cell_type": "code",
   "execution_count": null,
   "id": "dc4567e1",
   "metadata": {
    "scrolled": false
   },
   "outputs": [],
   "source": [
    "pp = ffp_qlt[\"Item\"].value_counts(ascending = True)\n",
    "\n",
    "# define figure\n",
    "fig, ax = plt.subplots(1, figsize=(15, 22))\n",
    "# numerical x\n",
    "x = np.arange(0, len(pp.index))\n",
    "\n",
    "# plot horizontal bars\n",
    "ax = pp.plot.barh()\n",
    "\n",
    "# x y details\n",
    "plt.yticks(ticks=range(len(pp.index)), labels=pp.index)\n",
    "\n",
    "# grid lines\n",
    "ax.set_axisbelow(True)\n",
    "ax.xaxis.grid(color='gray', linestyle='dashed', alpha=0.2)\n",
    "\n",
    "# title and legend\n",
    "plt.title('Items global production ranking', fontsize = 14)\n",
    "\n",
    "plt.show()"
   ]
  },
  {
   "cell_type": "markdown",
   "id": "e7220c2e",
   "metadata": {},
   "source": [
    "**Which types of food have more negative impact on the environment?**"
   ]
  },
  {
   "cell_type": "markdown",
   "id": "4cafdf12",
   "metadata": {},
   "source": [
    "First, I am going to give evidence of total carbon footprint trend among different product types."
   ]
  },
  {
   "cell_type": "code",
   "execution_count": null,
   "id": "a997e172",
   "metadata": {
    "scrolled": false
   },
   "outputs": [],
   "source": [
    "fpi= fpi.sort_values(['TotalEmissions'])\n",
    "\n",
    "# define figure\n",
    "fig, ax = plt.subplots(1, figsize=(20, 13))\n",
    "# numerical x\n",
    "x = np.arange(0, len(fpi.index))\n",
    "\n",
    "# plot horizontal bars\n",
    "plt.barh(x, fpi['TotalEmissions'])\n",
    "\n",
    "# x y details\n",
    "plt.xlabel('KG CO2 x KG Food',fontsize = 12)\n",
    "plt.yticks(ticks=range(len(fpi.index)), labels=fpi.index)\n",
    "\n",
    "# grid lines\n",
    "ax.set_axisbelow(True)\n",
    "ax.xaxis.grid(color='gray', linestyle='dashed', alpha=0.2)\n",
    "\n",
    "# title and legend\n",
    "plt.title('Carbon Footprint per food product', fontsize = 18)\n",
    "\n",
    "plt.show()"
   ]
  },
  {
   "cell_type": "markdown",
   "id": "293cfc3f",
   "metadata": {},
   "source": [
    "By looking at this graph, we notice that there are some food products in this dataset who have a total emission of more than 15 Kg CO2 per kg of produced product, such as: **beef, lamb & mutton, cheese, dark chocolate and coffee**. Thus, they can be considered as the products with the highest carbon footprint."
   ]
  },
  {
   "cell_type": "markdown",
   "id": "21942553",
   "metadata": {},
   "source": [
    "Just for completeness, I am going to analyse the \"TotalEmissions\" column data from statistical point of view."
   ]
  },
  {
   "cell_type": "code",
   "execution_count": null,
   "id": "b498859d",
   "metadata": {
    "scrolled": false
   },
   "outputs": [],
   "source": [
    "sns.set_theme(style=\"white\")\n",
    "sns.set_style(\"ticks\")\n",
    "\n",
    "plt.figure(figsize=(18,6))\n",
    "\n",
    "plt.subplot(131)\n",
    "\n",
    "box = sns.boxplot(y = \"TotalEmissions\", data=fpi, orient = \"v\", linewidth=0.75)\n",
    "#box = sns.swarmplot(y = \"TotalEmissions\", data=fpi, color=\".25\")\n",
    "\n",
    "box.set_ylabel(\"Kg CO2 x KG Product\",fontsize = 10)\n",
    "box.set_title(\"BOX PLOT (Total Emissions)\")\n",
    "\n",
    "plt.subplot(132)\n",
    "\n",
    "hist = sns.histplot(fpi['TotalEmissions'], bins = 20)\n",
    "\n",
    "hist.set_title(\"HISTOGRAM (Total Emissions)\")\n",
    "hist.set_xlabel(\"KG CO2 x KG Product\",fontsize = 10)\n",
    "hist.set_ylabel(\"Frequency\",fontsize = 10)\n",
    "\n",
    "plt.subplot(133)\n",
    "\n",
    "kde = sns.kdeplot(fpi['TotalEmissions'],\n",
    "                   shade = True,\n",
    "                   color = \"b\")\n",
    "\n",
    "kde.set_title(\"KDE PLOT (Total Emissions)\")\n",
    "kde.set_xlabel(\"Kg CO2 x KG Product\",fontsize = 10)\n",
    "kde.set_ylabel(\"Density\",fontsize = 10)\n",
    "\n",
    "plt.show()\n"
   ]
  },
  {
   "cell_type": "markdown",
   "id": "65dc47fa",
   "metadata": {},
   "source": [
    "The diplayed box plot shows that:\n",
    "\n",
    "* There are lines extending on either side of the box plot on either side. They tell us that some data exists a little off from the max concentration. In boxplot terms, the whiskers extend to points that lie within 1.5 times the interquartile range of the lower and upper quartile. Observations falling outside this margin are displayed independently.\n",
    "* Most emissions are between 0,85 to 6 KG CO2 emission on an average per KG of produced food.\n",
    "* The average number of emission is around 1,6 KG CO2 emission , shown by the box middle line.\n",
    "* Some food products in this dataset have a total emission of more than 15 Kg CO2 per kg product.\n",
    "\n",
    "\n",
    "The other two functions, displayed next to the box plot, show the Histogram and Kernel Density Estimation curve of total emissions data. From the following operation on the 'TotalEmissions'column (contains the calculated total emission in Kg CO2 per given food product), I can see that most of the time, total emissions value is in the range 0-0.6 and from the kde curve it can be seen that the most frequently observed value is about 0.3."
   ]
  },
  {
   "cell_type": "markdown",
   "id": "8f819166",
   "metadata": {},
   "source": [
    "**How much each stage of food production contributes to the total emission?**"
   ]
  },
  {
   "cell_type": "markdown",
   "id": "e24f923d",
   "metadata": {},
   "source": [
    "Let's see in more detail by what percentage each step inside the food production process affects the amount of emission registered per single food type."
   ]
  },
  {
   "cell_type": "code",
   "execution_count": null,
   "id": "32dd9396",
   "metadata": {
    "scrolled": true
   },
   "outputs": [],
   "source": [
    "# Fuction that normalize the data by converting values in range [0,1]\n",
    "def NormalizeData(data):\n",
    "    return (data - np.min(data)) / (np.max(data) - np.min(data))\n",
    "\n",
    "# Define the colors palette to be used on pie charts\n",
    "colors = sns.color_palette('pastel')[0:7]\n",
    "\n",
    "# Workaround to insert labels into a LEGEND and not on the pie chart (useful to avoid text overlapping)\n",
    "labels = ['LandUseChange','AnimalFeed','Farm','Processing','Transport','Packaging','Retail']\n",
    "unit = ['Kg CO2']*7\n",
    "legend_labels = ['{0} ({1})'.format(i,j) for i,j in zip(labels,unit)]\n",
    "\n",
    "fig = plt.figure(figsize = (60,320))\n",
    "\n",
    "# Iterates over row index (=type of food product)\n",
    "count = 0\n",
    "\n",
    "for row_index, row in fpi.iterrows():\n",
    "    \n",
    "    count +=1\n",
    "    \n",
    "    data = NormalizeData(row[0:7])\n",
    "    \n",
    "    ax = fig.add_subplot(15,3,count)\n",
    "    \n",
    "    wedges, label, autopct = ax.pie(data, colors = colors, autopct = '%0.0f%%', startangle=90)\n",
    "\n",
    "    plt.setp(autopct, size=42)\n",
    "    plt.setp(label, size=0)\n",
    "\n",
    "    # Display the LEGEND every 3 pie charts\n",
    "    if ((count-1)%3==0):\n",
    "        plt.legend(wedges,legend_labels,loc='upper left',bbox_to_anchor=(-0.65, 1.),fontsize=40, title=\"LEGEND\", title_fontsize=44)\n",
    "\n",
    "    ax.set_title(row_index,fontsize = 48, fontweight = \"bold\")"
   ]
  },
  {
   "cell_type": "markdown",
   "id": "27be3c34",
   "metadata": {},
   "source": [
    "**How much each food type contributes to Eutrophying and GreenhouseGas emissions?**"
   ]
  },
  {
   "cell_type": "markdown",
   "id": "9d15cb6b",
   "metadata": {},
   "source": [
    "I will create another dataframe (a sliced version of fpi dataframe), which will contain only the fpi columns referred to Eutrophying and GreenhouseGas emissions."
   ]
  },
  {
   "cell_type": "code",
   "execution_count": null,
   "id": "c1601324",
   "metadata": {
    "scrolled": false
   },
   "outputs": [],
   "source": [
    "# loading of a dataframe from seaborn\n",
    "df = fpi.loc[:, 'EutrophyingEmissions_kg' : 'ScarcityWeightedWaterUse_kg']\n",
    "df.stack()  "
   ]
  },
  {
   "cell_type": "code",
   "execution_count": null,
   "id": "b6f7f722",
   "metadata": {
    "scrolled": false
   },
   "outputs": [],
   "source": [
    "# define figure\n",
    "fig, ax = plt.subplots(1, figsize=(15, 10))\n",
    "# numerical x\n",
    "x = np.arange(0, len(df.index))\n",
    "# plot bars\n",
    "plt.bar(x - 0.2, df['EutrophyingEmissions_kg'])\n",
    "plt.bar(x + 0.0, df['GreenhouseGasEmissions_kg'])\n",
    "\n",
    "# remove spines\n",
    "ax.spines['right'].set_visible(False)\n",
    "ax.spines['top'].set_visible(False)\n",
    "# x y details\n",
    "plt.ylabel('Amount of emission')\n",
    "plt.xticks(ticks=range(len(df.index)), labels=df.index, rotation=90 )\n",
    "plt.xlim(-0.5, 45)\n",
    "# grid lines\n",
    "ax.set_axisbelow(True)\n",
    "ax.yaxis.grid(color='gray', linestyle='dashed', alpha=0.2)\n",
    "# title and legend\n",
    "plt.title('Emission per Kg of food production', fontsize = 18)\n",
    "plt.legend(['EutrophyingEmissions:gPO₄eq x Kg', 'GreenhouseGasEmissions:kgCO₂eq x 1000Kcal'], loc='upper left', ncol = 2)\n",
    "plt.show()"
   ]
  },
  {
   "cell_type": "markdown",
   "id": "ba3d2326",
   "metadata": {},
   "source": [
    "The above graph, tells us that there is little relationship between Eutrophying and GreenhouseGas emission. In other words, we notice that, when one of these measures increases it does not affect proportionally the other measure. In fact we observe the following:\n",
    "* Greehouse Gas emission is unrelated to other measurements and is caused mainly by these few food types: coffee, beed herds,lamb & mutton and tomatoes.\n",
    "* Eutrophying emission is very high for beef and fish."
   ]
  },
  {
   "cell_type": "markdown",
   "id": "b6ae202e",
   "metadata": {},
   "source": [
    "**What is the impact of food production on other resources (water, land)?**"
   ]
  },
  {
   "cell_type": "markdown",
   "id": "4e44c894",
   "metadata": {},
   "source": [
    "Let's first give a look at the water withdrawals for production purposes. \n",
    "\n",
    "Note that the scarcity-weighted water use indicator represents freshwater use weighted by local water scarcity."
   ]
  },
  {
   "cell_type": "code",
   "execution_count": null,
   "id": "df697ecb",
   "metadata": {
    "scrolled": false
   },
   "outputs": [],
   "source": [
    "# define figure\n",
    "fig, ax = plt.subplots(1, figsize=(20, 13))\n",
    "# numerical x\n",
    "x = np.arange(0, len(df.index))\n",
    "\n",
    "# plot horizontal bars\n",
    "plt.barh(x, df['ScarcityWeightedWaterUse_kg'])\n",
    "plt.barh(x, df['FreshwaterWithdrawals_kg'], left = df['ScarcityWeightedWaterUse_kg'])\n",
    "\n",
    "# x y details\n",
    "plt.xlabel('Amount of used water')\n",
    "plt.yticks(ticks=range(len(df.index)), labels=df.index)\n",
    "plt.ylim(-0.5, 45)\n",
    "\n",
    "# grid lines\n",
    "ax.set_axisbelow(True)\n",
    "ax.xaxis.grid(color='gray', linestyle='dashed', alpha=0.2)\n",
    "\n",
    "# title and legend\n",
    "plt.title('Water used per Kg of food production', fontsize = 18)\n",
    "plt.legend(['ScarcityWeightedWaterUse','FreshwaterWithdrawals'], loc='upper right', ncol = 2)\n",
    "plt.show()"
   ]
  },
  {
   "cell_type": "markdown",
   "id": "19edf924",
   "metadata": {},
   "source": [
    "The weightning of the scarcity-weighted water use indicator looks to be quite aggressive and not proportional to the amount of freshwater use. Instead it gives much more relevance to local water scarcity indicator. In fact, many of the bars having similar extend of the red bar portion (freshwater use), has a very different extend of the blu bar portion (scarcity-weighted water use).\n",
    "\n",
    "Anyway, by looking at this plot, we can observe that:\n",
    "\n",
    "* the food products that require a lot of freshwater are: cheese, nuts, fish and beef (dairy herd)\n",
    "* the food products with the highest water use footprint are: nuts, cheese, olive oil, lamb & mutton, beef (dairy herd)"
   ]
  },
  {
   "cell_type": "markdown",
   "id": "3e4a5904",
   "metadata": {},
   "source": [
    "Now let's give a look at the land use parameter."
   ]
  },
  {
   "cell_type": "code",
   "execution_count": null,
   "id": "7f3352d4",
   "metadata": {
    "scrolled": false
   },
   "outputs": [],
   "source": [
    "# define figure\n",
    "fig, ax = plt.subplots(figsize=(15, 10))\n",
    "# numerical x\n",
    "x = np.arange(0, len(df.index))\n",
    "# plot line\n",
    "ax.plot(x, df['LandUse_kg'])\n",
    "\n",
    "# remove spines\n",
    "ax.spines['right'].set_visible(False)\n",
    "ax.spines['top'].set_visible(False)\n",
    "# x y details\n",
    "plt.ylabel('Land Use')\n",
    "plt.xticks(ticks=range(len(df.index)), labels=df.index, rotation=90 )\n",
    "# grid lines\n",
    "ax.set_axisbelow(True)\n",
    "ax.yaxis.grid(color='gray', linestyle='dashed')\n",
    "# title and legend\n",
    "plt.title('Land Use per each kg of produced food', fontsize=14)\n",
    "\n",
    "plt.show()"
   ]
  },
  {
   "cell_type": "markdown",
   "id": "cb3f6f2f",
   "metadata": {},
   "source": [
    "By looking at this graph, we notice that there are some food products who requires lots of land, such as: beef, lamb & mutton, cheese, dark chocolate and coffee. Thus, they can be considered as the products with the highest land use footprint."
   ]
  }
 ],
 "metadata": {
  "kernelspec": {
   "display_name": "Python 3 (ipykernel)",
   "language": "python",
   "name": "python3"
  },
  "language_info": {
   "codemirror_mode": {
    "name": "ipython",
    "version": 3
   },
   "file_extension": ".py",
   "mimetype": "text/x-python",
   "name": "python",
   "nbconvert_exporter": "python",
   "pygments_lexer": "ipython3",
   "version": "3.9.7"
  }
 },
 "nbformat": 4,
 "nbformat_minor": 5
}
